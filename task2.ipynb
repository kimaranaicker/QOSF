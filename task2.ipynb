{
 "cells": [
  {
   "cell_type": "markdown",
   "metadata": {},
   "source": [
    "QOSF Screening Task 2"
   ]
  },
  {
   "cell_type": "markdown",
   "metadata": {},
   "source": [
    "Import libraries"
   ]
  },
  {
   "cell_type": "code",
   "execution_count": 1,
   "metadata": {},
   "outputs": [],
   "source": [
    "import qiskit"
   ]
  },
  {
   "cell_type": "code",
   "execution_count": 2,
   "metadata": {},
   "outputs": [],
   "source": [
    "import matplotlib.pyplot as plt\n",
    "%matplotlib inline\n",
    "from math import pi"
   ]
  },
  {
   "cell_type": "code",
   "execution_count": 3,
   "metadata": {},
   "outputs": [],
   "source": [
    "import pennylane as qml\n",
    "from pennylane import numpy as np"
   ]
  },
  {
   "cell_type": "markdown",
   "metadata": {},
   "source": [
    "Create device and target state for optimization "
   ]
  },
  {
   "cell_type": "code",
   "execution_count": 4,
   "metadata": {},
   "outputs": [],
   "source": [
    "dev = qml.device(\"default.qubit\", wires=2, shots=1000, analytic=False)"
   ]
  },
  {
   "cell_type": "code",
   "execution_count": 5,
   "metadata": {},
   "outputs": [],
   "source": [
    "target_state = np.tensor([0, 0.5, 0.5, 0]) "
   ]
  },
  {
   "cell_type": "markdown",
   "metadata": {},
   "source": [
    "Create quantum circuit where 'params' list contains angles for rotation gates to be optimized and expectation value is returned to be used in cost function"
   ]
  },
  {
   "cell_type": "code",
   "execution_count": 6,
   "metadata": {},
   "outputs": [],
   "source": [
    "density = np.outer(target_state, target_state)\n",
    "@qml.qnode(dev)\n",
    "def circuit(params):\n",
    "    qml.RX(params[0], wires=1)\n",
    "    qml.RY(params[1], wires=0)\n",
    "    qml.RX(params[2], wires=0)\n",
    "    qml.CNOT(wires=[0,1])\n",
    "    return qml.expval(qml.Hermitian(density, wires=[0,1]))"
   ]
  },
  {
   "cell_type": "markdown",
   "metadata": {},
   "source": [
    "Define cost function which is normalized so that a cost value of 0.00 corresponds to optimal value for 'params'"
   ]
  },
  {
   "cell_type": "code",
   "execution_count": 7,
   "metadata": {},
   "outputs": [],
   "source": [
    "def cost(var):\n",
    "    return 0.5-circuit(var)"
   ]
  },
  {
   "cell_type": "markdown",
   "metadata": {},
   "source": [
    "Set initial parameter values to random and test cost function"
   ]
  },
  {
   "cell_type": "code",
   "execution_count": 9,
   "metadata": {},
   "outputs": [
    {
     "name": "stdout",
     "output_type": "stream",
     "text": [
      "Initial parameters are:  [0.84508463 0.36378005 0.23300073]\n",
      "Cost value of initial parameters is:  0.449\n"
     ]
    }
   ],
   "source": [
    "init_params = np.random.rand(3) \n",
    "print('Initial parameters are: ', init_params)\n",
    "print('Cost value of initial parameters is: ', cost(init_params))"
   ]
  },
  {
   "cell_type": "markdown",
   "metadata": {},
   "source": [
    "Using the Adam optimizer, create a loop to evaluate the cost function as the parameter values are changing"
   ]
  },
  {
   "cell_type": "code",
   "execution_count": 10,
   "metadata": {},
   "outputs": [
    {
     "name": "stdout",
     "output_type": "stream",
     "text": [
      "Cost after step   100:  0.3830000\n",
      "Cost after step   200:  0.2235000\n",
      "Cost after step   300:  0.0565000\n",
      "Cost after step   400:  0.0100000\n",
      "Cost after step   500:  0.0015000\n",
      "Optimized rotation angles: [3.06856315 1.57121757 0.12695614]\n"
     ]
    }
   ],
   "source": [
    "opt = qml.AdamOptimizer(0.01, beta1=0.9, beta2=0.999)\n",
    "\n",
    "steps = 500\n",
    "\n",
    "params = init_params\n",
    "\n",
    "for i in range(steps):\n",
    "    params = opt.step(cost, params)\n",
    "\n",
    "    if (i + 1) % 100 == 0:\n",
    "        print(\"Cost after step {:5d}: {: .7f}\".format(i + 1, cost(params)))\n",
    "\n",
    "print(\"Optimized rotation angles: {}\".format(params))"
   ]
  },
  {
   "cell_type": "markdown",
   "metadata": {},
   "source": [
    "Visualize the circuit using Qiskit with optimized rotation angles"
   ]
  },
  {
   "cell_type": "code",
   "execution_count": 11,
   "metadata": {},
   "outputs": [
    {
     "data": {
      "text/html": [
       "<pre style=\"word-wrap: normal;white-space: pre;background: #fff0;line-height: 1.1;font-family: &quot;Courier New&quot;,Courier,monospace\">     ┌────────────┐┌─────────────┐      ░ ┌─┐   \n",
       "q_0: ┤ RY(1.5712) ├┤ RX(0.12696) ├──■───░─┤M├───\n",
       "     ├────────────┤└─────────────┘┌─┴─┐ ░ └╥┘┌─┐\n",
       "q_1: ┤ RX(3.0686) ├───────────────┤ X ├─░──╫─┤M├\n",
       "     └────────────┘               └───┘ ░  ║ └╥┘\n",
       "c: 2/══════════════════════════════════════╩══╩═\n",
       "                                           0  1 </pre>"
      ],
      "text/plain": [
       "     ┌────────────┐┌─────────────┐      ░ ┌─┐   \n",
       "q_0: ┤ RY(1.5712) ├┤ RX(0.12696) ├──■───░─┤M├───\n",
       "     ├────────────┤└─────────────┘┌─┴─┐ ░ └╥┘┌─┐\n",
       "q_1: ┤ RX(3.0686) ├───────────────┤ X ├─░──╫─┤M├\n",
       "     └────────────┘               └───┘ ░  ║ └╥┘\n",
       "c: 2/══════════════════════════════════════╩══╩═\n",
       "                                           0  1 "
      ]
     },
     "execution_count": 11,
     "metadata": {},
     "output_type": "execute_result"
    }
   ],
   "source": [
    "circ=qiskit.QuantumCircuit(2,2)\n",
    "circ.rx(params[0],1)\n",
    "circ.ry(params[1], 0)\n",
    "circ.rx(params[2], 0)\n",
    "circ.cnot(0,1)\n",
    "circ.barrier(range(2))\n",
    "circ.measure(range(2),range(2))\n",
    "circ.draw()"
   ]
  },
  {
   "cell_type": "markdown",
   "metadata": {},
   "source": [
    "Define simulator to use and configure it. Execute the circuit with specifc number of measurements i.e. shots"
   ]
  },
  {
   "cell_type": "code",
   "execution_count": 13,
   "metadata": {},
   "outputs": [
    {
     "name": "stdout",
     "output_type": "stream",
     "text": [
      "Simulation results from 1 measurement\n",
      "{'10': 1}\n"
     ]
    },
    {
     "data": {
      "image/png": "[encoded data removed]",
      "text/plain": [
       "<Figure size 504x360 with 1 Axes>"
      ]
     },
     "execution_count": 13,
     "metadata": {},
     "output_type": "execute_result"
    }
   ],
   "source": [
    "backend_sim = qiskit.Aer.get_backend('qasm_simulator')\n",
    "noise_model = qiskit.providers.aer.noise.NoiseModel()\n",
    "backend_ops = {\"method\": \"automatic\"}\n",
    "\n",
    "job_sim = qiskit.execute(circ, backend_sim, shots=1, backend_options=backend_ops, noise_model=noise_model)\n",
    "\n",
    "result = job_sim.result()\n",
    "counts = result.get_counts(circ)\n",
    "\n",
    "print('Simulation results from 1 measurement')\n",
    "print(counts)\n",
    "qiskit.visualization.plot_histogram(counts)"
   ]
  },
  {
   "cell_type": "markdown",
   "metadata": {},
   "source": [
    "10 measurements now"
   ]
  },
  {
   "cell_type": "code",
   "execution_count": 14,
   "metadata": {},
   "outputs": [
    {
     "name": "stdout",
     "output_type": "stream",
     "text": [
      "Simulation results from 10 measurements\n",
      "{'01': 4, '10': 6}\n"
     ]
    },
    {
     "data": {
      "image/png": "[encoded data removed]",
      "text/plain": [
       "<Figure size 504x360 with 1 Axes>"
      ]
     },
     "execution_count": 14,
     "metadata": {},
     "output_type": "execute_result"
    }
   ],
   "source": [
    "job_sim = qiskit.execute(circ, backend_sim, shots=10, backend_options=backend_ops, noise_model=noise_model)\n",
    "\n",
    "result = job_sim.result()\n",
    "counts = result.get_counts(circ)\n",
    "\n",
    "print('Simulation results from 10 measurements')\n",
    "print(counts)\n",
    "qiskit.visualization.plot_histogram(counts)"
   ]
  },
  {
   "cell_type": "markdown",
   "metadata": {},
   "source": [
    "100 measurements done"
   ]
  },
  {
   "cell_type": "code",
   "execution_count": 15,
   "metadata": {},
   "outputs": [
    {
     "name": "stdout",
     "output_type": "stream",
     "text": [
      "Simulation results from 100 measurements\n",
      "{'01': 46, '10': 54}\n"
     ]
    },
    {
     "data": {
      "image/png": "[encoded data removed]",
      "text/plain": [
       "<Figure size 504x360 with 1 Axes>"
      ]
     },
     "execution_count": 15,
     "metadata": {},
     "output_type": "execute_result"
    }
   ],
   "source": [
    "job_sim = qiskit.execute(circ, backend_sim, shots=100, backend_options=backend_ops, noise_model=noise_model)\n",
    "\n",
    "result = job_sim.result()\n",
    "counts = result.get_counts(circ)\n",
    "\n",
    "print('Simulation results from 100 measurements')\n",
    "print(counts)\n",
    "qiskit.visualization.plot_histogram(counts)"
   ]
  },
  {
   "cell_type": "markdown",
   "metadata": {},
   "source": [
    "1000 measurements"
   ]
  },
  {
   "cell_type": "code",
   "execution_count": 17,
   "metadata": {},
   "outputs": [
    {
     "name": "stdout",
     "output_type": "stream",
     "text": [
      "Simulation results from 1000 measurements\n",
      "{'01': 504, '10': 496}\n"
     ]
    },
    {
     "data": {
      "image/png": "[encoded data removed]",
      "text/plain": [
       "<Figure size 504x360 with 1 Axes>"
      ]
     },
     "execution_count": 17,
     "metadata": {},
     "output_type": "execute_result"
    }
   ],
   "source": [
    "job_sim = qiskit.execute(circ, backend_sim, shots=1000, backend_options=backend_ops, noise_model=noise_model)\n",
    "\n",
    "result = job_sim.result()\n",
    "counts = result.get_counts(circ)\n",
    "\n",
    "print('Simulation results from 1000 measurements')\n",
    "print(counts)\n",
    "qiskit.visualization.plot_histogram(counts)"
   ]
  }
 ],
 "metadata": {
  "kernelspec": {
   "display_name": "Python 3",
   "language": "python",
   "name": "python3"
  },
  "language_info": {
   "codemirror_mode": {
    "name": "ipython",
    "version": 3
   },
   "file_extension": ".py",
   "mimetype": "text/x-python",
   "name": "python",
   "nbconvert_exporter": "python",
   "pygments_lexer": "ipython3",
   "version": "3.7.7"
  }
 },
 "nbformat": 4,
 "nbformat_minor": 4
}
